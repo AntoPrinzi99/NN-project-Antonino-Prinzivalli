{
  "cells": [
    {
      "cell_type": "markdown",
      "metadata": {
        "id": "view-in-github",
        "colab_type": "text"
      },
      "source": [
        "<a href=\"https://colab.research.google.com/github/AntoPrinzi99/NN-project-Antonino-Prinzivalli/blob/main/similarity_of_the_latent_spaces_with_CNN.ipynb\" target=\"_parent\"><img src=\"https://colab.research.google.com/assets/colab-badge.svg\" alt=\"Open In Colab\"/></a>"
      ]
    },
    {
      "cell_type": "code",
      "execution_count": null,
      "metadata": {
        "id": "xOSMo7UrG0kQ"
      },
      "outputs": [],
      "source": [
        "import torch\n",
        "import torch.nn as nn\n",
        "import torch.nn.functional as F\n",
        "import torch.optim as optim\n",
        "from torchvision import datasets, transforms\n",
        "import numpy as np\n",
        "from sklearn.metrics.pairwise import cosine_similarity\n",
        "import matplotlib.pyplot as plt"
      ]
    },
    {
      "cell_type": "code",
      "execution_count": null,
      "metadata": {
        "id": "OWgK-9kRAa3Y"
      },
      "outputs": [],
      "source": [
        "import torch\n",
        "import torch.nn as nn\n",
        "import torch.nn.functional as F\n",
        "\n",
        "class ComplexCNN(nn.Module):\n",
        "    def __init__(self):\n",
        "        super(ComplexCNN, self).__init__()\n",
        "        self.conv1 = nn.Conv2d(3, 256, kernel_size=3, padding='same')\n",
        "        self.bn1 = nn.BatchNorm2d(256)\n",
        "\n",
        "        self.conv2 = nn.Conv2d(256, 256, kernel_size=3, padding='same')\n",
        "        self.bn2 = nn.BatchNorm2d(256)\n",
        "\n",
        "        self.pool1 = nn.MaxPool2d(kernel_size=2, stride=2)\n",
        "        self.dropout1 = nn.Dropout(0.2)\n",
        "\n",
        "        self.conv3 = nn.Conv2d(256, 512, kernel_size=3, padding='same')\n",
        "        self.bn3 = nn.BatchNorm2d(512)\n",
        "\n",
        "        self.conv4 = nn.Conv2d(512, 512, kernel_size=3, padding='same')\n",
        "        self.bn4 = nn.BatchNorm2d(512)\n",
        "\n",
        "        self.pool2 = nn.MaxPool2d(kernel_size=2, stride=2)\n",
        "        self.dropout2 = nn.Dropout(0.2)\n",
        "\n",
        "        self.conv5 = nn.Conv2d(512, 512, kernel_size=3, padding='same')\n",
        "        self.bn5 = nn.BatchNorm2d(512)\n",
        "\n",
        "        self.conv6 = nn.Conv2d(512, 512, kernel_size=3, padding='same')\n",
        "        self.bn6 = nn.BatchNorm2d(512)\n",
        "\n",
        "        self.pool3 = nn.MaxPool2d(kernel_size=2, stride=2)\n",
        "        self.dropout3 = nn.Dropout(0.2)\n",
        "\n",
        "        self.conv7 = nn.Conv2d(512, 512, kernel_size=3, padding='same')\n",
        "        self.bn7 = nn.BatchNorm2d(512)\n",
        "\n",
        "        self.conv8 = nn.Conv2d(512, 512, kernel_size=3, padding='same')\n",
        "        self.bn8 = nn.BatchNorm2d(512)\n",
        "\n",
        "        self.pool4 = nn.MaxPool2d(kernel_size=2, stride=2)\n",
        "        self.dropout4 = nn.Dropout(0.2)\n",
        "\n",
        "        self.flatten = nn.Flatten()\n",
        "        self.fc1 = nn.Linear(512 * 2 * 2, 1024)\n",
        "        self.dropout5 = nn.Dropout(0.2)\n",
        "        self.bn9 = nn.BatchNorm1d(1024, momentum=0.95, eps=0.005)\n",
        "        self.fc2 = nn.Linear(1024, 100)\n",
        "\n",
        "    def forward(self, x):\n",
        "        x = F.relu(self.bn1(self.conv1(x)))\n",
        "        x = F.relu(self.bn2(self.conv2(x)))\n",
        "        x = self.pool1(x)\n",
        "        x = self.dropout1(x)\n",
        "\n",
        "        x = F.relu(self.bn3(self.conv3(x)))\n",
        "        x = F.relu(self.bn4(self.conv4(x)))\n",
        "        x = self.pool2(x)\n",
        "        x = self.dropout2(x)\n",
        "\n",
        "        x = F.relu(self.bn5(self.conv5(x)))\n",
        "        x = F.relu(self.bn6(self.conv6(x)))\n",
        "        x = self.pool3(x)\n",
        "        x = self.dropout3(x)\n",
        "\n",
        "        x = F.relu(self.bn7(self.conv7(x)))\n",
        "        x = F.relu(self.bn8(self.conv8(x)))\n",
        "        x = self.pool4(x)\n",
        "        x = self.dropout4(x)\n",
        "\n",
        "        x = self.flatten(x)\n",
        "        x = F.relu(self.fc1(x))\n",
        "        x = self.dropout5(x)\n",
        "        x = self.bn9(x)\n",
        "        x = self.fc2(x)\n",
        "        return x\n",
        "\n",
        "    def get_embedding(self, x):\n",
        "        x = F.relu(self.bn1(self.conv1(x)))\n",
        "        x = F.relu(self.bn2(self.conv2(x)))\n",
        "        x = self.pool1(x)\n",
        "        x = self.dropout1(x)\n",
        "\n",
        "        x = F.relu(self.bn3(self.conv3(x)))\n",
        "        x = F.relu(self.bn4(self.conv4(x)))\n",
        "        x = self.pool2(x)\n",
        "        x = self.dropout2(x)\n",
        "\n",
        "        x = F.relu(self.bn5(self.conv5(x)))\n",
        "        x = F.relu(self.bn6(self.conv6(x)))\n",
        "        x = self.pool3(x)\n",
        "        x = self.dropout3(x)\n",
        "\n",
        "        x = F.relu(self.bn7(self.conv7(x)))\n",
        "        x = F.relu(self.bn8(self.conv8(x)))\n",
        "        x = self.pool4(x)\n",
        "        x = self.dropout4(x)\n",
        "\n",
        "        x = self.flatten(x)\n",
        "        x = F.relu(self.fc1(x))\n",
        "        return x"
      ]
    },
    {
      "cell_type": "markdown",
      "metadata": {
        "id": "XlASIxOFAihT"
      },
      "source": [
        "#Load data"
      ]
    },
    {
      "cell_type": "code",
      "execution_count": null,
      "metadata": {
        "colab": {
          "base_uri": "https://localhost:8080/",
          "referenced_widgets": [
            "7b13761fa8ed4c5fbb1b5bbbe764ffa2"
          ]
        },
        "id": "EmJYjf7AAiQN",
        "outputId": "746abe55-c221-4c1b-eddb-bd436979ff67"
      },
      "outputs": [
        {
          "name": "stdout",
          "output_type": "stream",
          "text": [
            "Downloading https://www.cs.toronto.edu/~kriz/cifar-100-python.tar.gz to ./data/cifar-100-python.tar.gz\n"
          ]
        },
        {
          "data": {
            "application/vnd.jupyter.widget-view+json": {
              "model_id": "7b13761fa8ed4c5fbb1b5bbbe764ffa2",
              "version_major": 2,
              "version_minor": 0
            },
            "text/plain": [
              "  0%|          | 0/169001437 [00:00<?, ?it/s]"
            ]
          },
          "metadata": {},
          "output_type": "display_data"
        },
        {
          "name": "stdout",
          "output_type": "stream",
          "text": [
            "Extracting ./data/cifar-100-python.tar.gz to ./data\n",
            "Files already downloaded and verified\n"
          ]
        }
      ],
      "source": [
        "# Caricamento del dataset CIFAR-100\n",
        "transform = transforms.Compose([\n",
        "    transforms.ToTensor(),\n",
        "    transforms.Normalize((0.5071, 0.4867, 0.4408), (0.2675, 0.2565, 0.2761))\n",
        "])\n",
        "\n",
        "train_dataset = datasets.CIFAR100(root='./data', train=True, download=True, transform=transform)\n",
        "test_dataset = datasets.CIFAR100(root='./data', train=False, download=True, transform=transform)\n",
        "\n",
        "train_loader = torch.utils.data.DataLoader(train_dataset, batch_size=64, shuffle=True)\n",
        "test_loader = torch.utils.data.DataLoader(test_dataset, batch_size=64, shuffle=False)\n"
      ]
    },
    {
      "cell_type": "markdown",
      "metadata": {
        "id": "yHw0cYFXAm-L"
      },
      "source": [
        "#train"
      ]
    },
    {
      "cell_type": "code",
      "execution_count": null,
      "metadata": {
        "id": "L3JhaDGXAoOH"
      },
      "outputs": [],
      "source": [
        "def train(model, device, train_loader, optimizer, epoch):\n",
        "    model.train()\n",
        "    for batch_idx, (data, target) in enumerate(train_loader):\n",
        "        data, target = data.to(device), target.to(device)\n",
        "        optimizer.zero_grad()\n",
        "        output = model(data)\n",
        "        loss = F.cross_entropy(output, target)\n",
        "        loss.backward()\n",
        "        optimizer.step()\n",
        "\n",
        "def test(model, device, test_loader):\n",
        "    model.eval()\n",
        "    test_loss = 0\n",
        "    correct = 0\n",
        "    with torch.no_grad():\n",
        "        for data, target in test_loader:\n",
        "            data, target = data.to(device), target.to(device)\n",
        "            output = model(data)\n",
        "            test_loss += F.cross_entropy(output, target, reduction='sum').item()\n",
        "            pred = output.argmax(dim=1, keepdim=True)\n",
        "            correct += pred.eq(target.view_as(pred)).sum().item()\n",
        "\n",
        "    test_loss /= len(test_loader.dataset)\n",
        "    accuracy = correct / len(test_loader.dataset)\n",
        "    return test_loss, accuracy"
      ]
    },
    {
      "cell_type": "code",
      "execution_count": null,
      "metadata": {
        "colab": {
          "base_uri": "https://localhost:8080/"
        },
        "id": "u_7YpzlRG9MQ",
        "outputId": "10cd9bde-bfda-46bf-c6b3-d36a681f1661"
      },
      "outputs": [
        {
          "name": "stdout",
          "output_type": "stream",
          "text": [
            "Model trained for 30 epochs: Test loss = 2.5111, Accuracy = 0.6243\n",
            "Model trained for 40 epochs: Test loss = 2.4573, Accuracy = 0.6309\n",
            "Model trained for 100 epochs: Test loss = 2.8325, Accuracy = 0.6552\n",
            "Model trained for 120 epochs: Test loss = 2.9916, Accuracy = 0.6539\n"
          ]
        }
      ],
      "source": [
        "device = torch.device(\"cuda\" if torch.cuda.is_available() else \"cpu\")\n",
        "epochs = [30, 40, 100, 120]\n",
        "models = []\n",
        "\n",
        "\n",
        "for epoch in epochs:\n",
        "    model = ComplexCNN().to(device)\n",
        "    optimizer = optim.SGD(model.parameters(), lr=0.01, momentum=0.9)\n",
        "    for ep in range(epoch):\n",
        "        train(model, device, train_loader, optimizer, ep)\n",
        "    test_loss, accuracy = test(model, device, test_loader)\n",
        "    models.append((model, accuracy))\n",
        "    print(f\"Model trained for {epoch} epochs: Test loss = {test_loss:.4f}, Accuracy = {accuracy:.4f}\")"
      ]
    },
    {
      "cell_type": "markdown",
      "metadata": {
        "id": "gjzyQje1DEkI"
      },
      "source": [
        "Similarity of Embeddings with the epochs:"
      ]
    },
    {
      "cell_type": "code",
      "execution_count": null,
      "metadata": {
        "id": "I1AnIN-gIuRx",
        "outputId": "af7d491c-a626-4283-b56f-c59836cb9751"
      },
      "outputs": [
        {
          "data": {
            "image/png": "[encoded data removed]",
            "text/plain": [
              "<Figure size 640x480 with 2 Axes>"
            ]
          },
          "metadata": {},
          "output_type": "display_data"
        }
      ],
      "source": [
        "def get_embeddings(model, device, loader, n_samples=10000):\n",
        "    model.eval()\n",
        "    embeddings = []\n",
        "    with torch.no_grad():\n",
        "        for i, (data, target) in enumerate(loader):\n",
        "            data = data.to(device)\n",
        "            embedding = model.get_embedding(data).cpu().numpy()\n",
        "            embeddings.append(embedding)\n",
        "            if i * loader.batch_size >= n_samples:\n",
        "                break\n",
        "    return np.concatenate(embeddings)\n",
        "\n",
        "# Extraction and Averaging of Embeddings\n",
        "embeddings_list = [get_embeddings(model, device, test_loader).mean(axis=0) for model, _ in models]\n",
        "\n",
        "# Creation of the similarity matrix\n",
        "similarities = np.zeros((len(embeddings_list), len(embeddings_list)))\n",
        "\n",
        "for i in range(len(embeddings_list)):\n",
        "    for j in range(i, len(embeddings_list)):\n",
        "        sim = cosine_similarity([embeddings_list[i]], [embeddings_list[j]])[0, 0]\n",
        "        similarities[i, j] = sim\n",
        "        similarities[j, i] = sim\n",
        "\n",
        "\n",
        "plt.imshow(similarities, cmap='hot', interpolation='nearest')\n",
        "plt.colorbar()\n",
        "plt.xticks(ticks=np.arange(len(epochs)), labels=[f\"{ep} epochs\" for ep in epochs])\n",
        "plt.yticks(ticks=np.arange(len(epochs)), labels=[f\"{ep} epochs\" for ep in epochs])\n",
        "plt.title(\"Similarity of Embeddings\")\n",
        "plt.show()"
      ]
    },
    {
      "cell_type": "code",
      "execution_count": null,
      "metadata": {
        "id": "lXDhh8CwDEkJ",
        "outputId": "d5409c89-592c-4c5a-f851-03d93ed3f49a"
      },
      "outputs": [
        {
          "name": "stdout",
          "output_type": "stream",
          "text": [
            "Shape of embeddings_list: (4, 1024)\n"
          ]
        }
      ],
      "source": [
        "#print(\"Shape of embeddings_list:\", np.array(embeddings_list).shape)"
      ]
    },
    {
      "cell_type": "markdown",
      "metadata": {
        "id": "Vx1AeFhnDEkK"
      },
      "source": [
        "save the models:"
      ]
    },
    {
      "cell_type": "code",
      "execution_count": null,
      "metadata": {
        "id": "ry8LkweDDEkK",
        "outputId": "0db7b020-4106-4f04-e976-20a4de701b16"
      },
      "outputs": [
        {
          "name": "stdout",
          "output_type": "stream",
          "text": [
            "Model trained for 30 epochs with accuracy 0.6243 saved to model_epoch_30.pth\n",
            "Model trained for 40 epochs with accuracy 0.6309 saved to model_epoch_40.pth\n",
            "Model trained for 100 epochs with accuracy 0.6552 saved to model_epoch_100.pth\n",
            "Model trained for 120 epochs with accuracy 0.6539 saved to model_epoch_120.pth\n"
          ]
        }
      ],
      "source": [
        "for i, (model, accuracy) in enumerate(models):\n",
        "    epoch = epochs[i]\n",
        "    model_path = f\"model_epoch_{epoch}.pth\"\n",
        "    torch.save(model.state_dict(), model_path)\n",
        "    print(f\"Model trained for {epoch} epochs with accuracy {accuracy:.4f} saved to {model_path}\")"
      ]
    }
  ],
  "metadata": {
    "accelerator": "GPU",
    "colab": {
      "gpuType": "T4",
      "provenance": [],
      "include_colab_link": true
    },
    "kernelspec": {
      "display_name": "Python 3",
      "name": "python3"
    },
    "language_info": {
      "codemirror_mode": {
        "name": "ipython",
        "version": 3
      },
      "file_extension": ".py",
      "mimetype": "text/x-python",
      "name": "python",
      "nbconvert_exporter": "python",
      "pygments_lexer": "ipython3",
      "version": "3.9.12"
    }
  },
  "nbformat": 4,
  "nbformat_minor": 0
}